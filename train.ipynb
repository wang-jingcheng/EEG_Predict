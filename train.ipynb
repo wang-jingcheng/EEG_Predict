{
 "cells": [
  {
   "cell_type": "code",
   "execution_count": 1,
   "metadata": {},
   "outputs": [
    {
     "name": "stdout",
     "output_type": "stream",
     "text": [
      "Loading dataset...\n",
      "-----------------------------------------\n",
      "训练集(x_train)的大小: (512, 8, 8192)\n",
      "测试集(x_test)的大小: (128, 8, 8192)\n",
      "-----------------------------------------\n",
      "The model has 1,458,232 trainable parameters in total\n",
      "Epoch 1 / 50:\n",
      "Training...\n"
     ]
    },
    {
     "name": "stderr",
     "output_type": "stream",
     "text": [
      "8it [02:15, 16.88s/it]\n"
     ]
    },
    {
     "name": "stdout",
     "output_type": "stream",
     "text": [
      "Evaluating...\n"
     ]
    },
    {
     "name": "stderr",
     "output_type": "stream",
     "text": [
      "2it [00:14,  7.28s/it]\n"
     ]
    },
    {
     "name": "stdout",
     "output_type": "stream",
     "text": [
      "Epoch: 1 | Time: 2m 29s\n",
      "\tTrain Loss: 42.701 | Train Acc: 0.576\n",
      "\tVal Loss: 213.554 | Val Acc: 0.754\n",
      "Epoch 2 / 50:\n",
      "Training...\n"
     ]
    },
    {
     "name": "stderr",
     "output_type": "stream",
     "text": [
      "8it [02:15, 16.89s/it]\n"
     ]
    },
    {
     "name": "stdout",
     "output_type": "stream",
     "text": [
      "Evaluating...\n"
     ]
    },
    {
     "name": "stderr",
     "output_type": "stream",
     "text": [
      "2it [00:14,  7.32s/it]\n"
     ]
    },
    {
     "name": "stdout",
     "output_type": "stream",
     "text": [
      "Epoch: 2 | Time: 2m 29s\n",
      "\tTrain Loss: 26.818 | Train Acc: 0.766\n",
      "\tVal Loss: 67.287 | Val Acc: 0.771\n",
      "Epoch 3 / 50:\n",
      "Training...\n"
     ]
    },
    {
     "name": "stderr",
     "output_type": "stream",
     "text": [
      "8it [02:17, 17.20s/it]\n"
     ]
    },
    {
     "name": "stdout",
     "output_type": "stream",
     "text": [
      "Evaluating...\n"
     ]
    },
    {
     "name": "stderr",
     "output_type": "stream",
     "text": [
      "2it [00:14,  7.18s/it]\n"
     ]
    },
    {
     "name": "stdout",
     "output_type": "stream",
     "text": [
      "Epoch: 3 | Time: 2m 31s\n",
      "\tTrain Loss: 25.298 | Train Acc: 0.781\n",
      "\tVal Loss: 30.592 | Val Acc: 0.795\n",
      "Epoch 4 / 50:\n",
      "Training...\n"
     ]
    },
    {
     "name": "stderr",
     "output_type": "stream",
     "text": [
      "8it [02:17, 17.15s/it]\n"
     ]
    },
    {
     "name": "stdout",
     "output_type": "stream",
     "text": [
      "Evaluating...\n"
     ]
    },
    {
     "name": "stderr",
     "output_type": "stream",
     "text": [
      "2it [00:14,  7.32s/it]\n"
     ]
    },
    {
     "name": "stdout",
     "output_type": "stream",
     "text": [
      "Epoch: 4 | Time: 2m 31s\n",
      "\tTrain Loss: 23.593 | Train Acc: 0.795\n",
      "\tVal Loss: 25.217 | Val Acc: 0.804\n",
      "Epoch 5 / 50:\n",
      "Training...\n"
     ]
    },
    {
     "name": "stderr",
     "output_type": "stream",
     "text": [
      "8it [02:16, 17.07s/it]\n"
     ]
    },
    {
     "name": "stdout",
     "output_type": "stream",
     "text": [
      "Evaluating...\n"
     ]
    },
    {
     "name": "stderr",
     "output_type": "stream",
     "text": [
      "2it [00:14,  7.38s/it]\n"
     ]
    },
    {
     "name": "stdout",
     "output_type": "stream",
     "text": [
      "Epoch: 5 | Time: 2m 31s\n",
      "\tTrain Loss: 22.692 | Train Acc: 0.803\n",
      "\tVal Loss: 24.491 | Val Acc: 0.816\n",
      "Epoch 6 / 50:\n",
      "Training...\n"
     ]
    },
    {
     "name": "stderr",
     "output_type": "stream",
     "text": [
      "8it [02:17, 17.21s/it]\n"
     ]
    },
    {
     "name": "stdout",
     "output_type": "stream",
     "text": [
      "Evaluating...\n"
     ]
    },
    {
     "name": "stderr",
     "output_type": "stream",
     "text": [
      "2it [00:14,  7.44s/it]\n"
     ]
    },
    {
     "name": "stdout",
     "output_type": "stream",
     "text": [
      "Epoch: 6 | Time: 2m 32s\n",
      "\tTrain Loss: 22.130 | Train Acc: 0.810\n",
      "\tVal Loss: 25.350 | Val Acc: 0.819\n",
      "Epoch 7 / 50:\n",
      "Training...\n"
     ]
    },
    {
     "name": "stderr",
     "output_type": "stream",
     "text": [
      "8it [02:17, 17.23s/it]\n"
     ]
    },
    {
     "name": "stdout",
     "output_type": "stream",
     "text": [
      "Evaluating...\n"
     ]
    },
    {
     "name": "stderr",
     "output_type": "stream",
     "text": [
      "2it [00:15,  7.53s/it]\n"
     ]
    },
    {
     "name": "stdout",
     "output_type": "stream",
     "text": [
      "Epoch: 7 | Time: 2m 32s\n",
      "\tTrain Loss: 21.339 | Train Acc: 0.816\n",
      "\tVal Loss: 26.945 | Val Acc: 0.823\n",
      "Epoch 8 / 50:\n",
      "Training...\n"
     ]
    },
    {
     "name": "stderr",
     "output_type": "stream",
     "text": [
      "8it [02:21, 17.71s/it]\n"
     ]
    },
    {
     "name": "stdout",
     "output_type": "stream",
     "text": [
      "Evaluating...\n"
     ]
    },
    {
     "name": "stderr",
     "output_type": "stream",
     "text": [
      "2it [00:15,  7.90s/it]\n"
     ]
    },
    {
     "name": "stdout",
     "output_type": "stream",
     "text": [
      "Epoch: 8 | Time: 2m 37s\n",
      "\tTrain Loss: 20.856 | Train Acc: 0.820\n",
      "\tVal Loss: 26.429 | Val Acc: 0.827\n",
      "Epoch 9 / 50:\n",
      "Training...\n"
     ]
    },
    {
     "name": "stderr",
     "output_type": "stream",
     "text": [
      "8it [02:27, 18.46s/it]\n"
     ]
    },
    {
     "name": "stdout",
     "output_type": "stream",
     "text": [
      "Evaluating...\n"
     ]
    },
    {
     "name": "stderr",
     "output_type": "stream",
     "text": [
      "2it [00:15,  7.59s/it]\n"
     ]
    },
    {
     "name": "stdout",
     "output_type": "stream",
     "text": [
      "Epoch: 9 | Time: 2m 42s\n",
      "\tTrain Loss: 20.396 | Train Acc: 0.824\n",
      "\tVal Loss: 23.704 | Val Acc: 0.832\n",
      "Epoch 10 / 50:\n",
      "Training...\n"
     ]
    },
    {
     "name": "stderr",
     "output_type": "stream",
     "text": [
      "8it [02:21, 17.68s/it]\n"
     ]
    },
    {
     "name": "stdout",
     "output_type": "stream",
     "text": [
      "Evaluating...\n"
     ]
    },
    {
     "name": "stderr",
     "output_type": "stream",
     "text": [
      "2it [00:15,  7.54s/it]\n"
     ]
    },
    {
     "name": "stdout",
     "output_type": "stream",
     "text": [
      "Epoch: 10 | Time: 2m 36s\n",
      "\tTrain Loss: 19.857 | Train Acc: 0.826\n",
      "\tVal Loss: 23.428 | Val Acc: 0.834\n",
      "Epoch 11 / 50:\n",
      "Training...\n"
     ]
    },
    {
     "name": "stderr",
     "output_type": "stream",
     "text": [
      "8it [02:18, 17.28s/it]\n"
     ]
    },
    {
     "name": "stdout",
     "output_type": "stream",
     "text": [
      "Evaluating...\n"
     ]
    },
    {
     "name": "stderr",
     "output_type": "stream",
     "text": [
      "2it [00:15,  7.53s/it]\n"
     ]
    },
    {
     "name": "stdout",
     "output_type": "stream",
     "text": [
      "Epoch: 11 | Time: 2m 33s\n",
      "\tTrain Loss: 19.724 | Train Acc: 0.828\n",
      "\tVal Loss: 23.039 | Val Acc: 0.837\n",
      "Epoch 12 / 50:\n",
      "Training...\n"
     ]
    },
    {
     "name": "stderr",
     "output_type": "stream",
     "text": [
      "8it [02:17, 17.17s/it]\n"
     ]
    },
    {
     "name": "stdout",
     "output_type": "stream",
     "text": [
      "Evaluating...\n"
     ]
    },
    {
     "name": "stderr",
     "output_type": "stream",
     "text": [
      "2it [00:14,  7.40s/it]\n"
     ]
    },
    {
     "name": "stdout",
     "output_type": "stream",
     "text": [
      "Epoch: 12 | Time: 2m 32s\n",
      "\tTrain Loss: 19.267 | Train Acc: 0.830\n",
      "\tVal Loss: 23.553 | Val Acc: 0.835\n",
      "Epoch 13 / 50:\n",
      "Training...\n"
     ]
    },
    {
     "name": "stderr",
     "output_type": "stream",
     "text": [
      "8it [02:17, 17.18s/it]\n"
     ]
    },
    {
     "name": "stdout",
     "output_type": "stream",
     "text": [
      "Evaluating...\n"
     ]
    },
    {
     "name": "stderr",
     "output_type": "stream",
     "text": [
      "2it [00:14,  7.21s/it]\n"
     ]
    },
    {
     "name": "stdout",
     "output_type": "stream",
     "text": [
      "Epoch: 13 | Time: 2m 31s\n",
      "\tTrain Loss: 18.739 | Train Acc: 0.833\n",
      "\tVal Loss: 21.238 | Val Acc: 0.841\n",
      "Epoch 14 / 50:\n",
      "Training...\n"
     ]
    },
    {
     "name": "stderr",
     "output_type": "stream",
     "text": [
      "8it [02:18, 17.35s/it]\n"
     ]
    },
    {
     "name": "stdout",
     "output_type": "stream",
     "text": [
      "Evaluating...\n"
     ]
    },
    {
     "name": "stderr",
     "output_type": "stream",
     "text": [
      "2it [00:14,  7.49s/it]\n"
     ]
    },
    {
     "name": "stdout",
     "output_type": "stream",
     "text": [
      "Epoch: 14 | Time: 2m 33s\n",
      "\tTrain Loss: 18.673 | Train Acc: 0.834\n",
      "\tVal Loss: 22.100 | Val Acc: 0.835\n",
      "Epoch 15 / 50:\n",
      "Training...\n"
     ]
    },
    {
     "name": "stderr",
     "output_type": "stream",
     "text": [
      "8it [02:20, 17.54s/it]\n"
     ]
    },
    {
     "name": "stdout",
     "output_type": "stream",
     "text": [
      "Evaluating...\n"
     ]
    },
    {
     "name": "stderr",
     "output_type": "stream",
     "text": [
      "2it [00:14,  7.43s/it]\n"
     ]
    },
    {
     "name": "stdout",
     "output_type": "stream",
     "text": [
      "Epoch: 15 | Time: 2m 35s\n",
      "\tTrain Loss: 18.592 | Train Acc: 0.834\n",
      "\tVal Loss: 20.614 | Val Acc: 0.843\n",
      "Epoch 16 / 50:\n",
      "Training...\n"
     ]
    },
    {
     "name": "stderr",
     "output_type": "stream",
     "text": [
      "8it [02:19, 17.48s/it]\n"
     ]
    },
    {
     "name": "stdout",
     "output_type": "stream",
     "text": [
      "Evaluating...\n"
     ]
    },
    {
     "name": "stderr",
     "output_type": "stream",
     "text": [
      "2it [00:15,  7.53s/it]\n"
     ]
    },
    {
     "name": "stdout",
     "output_type": "stream",
     "text": [
      "Epoch: 16 | Time: 2m 34s\n",
      "\tTrain Loss: 17.882 | Train Acc: 0.838\n",
      "\tVal Loss: 20.630 | Val Acc: 0.841\n",
      "Epoch 17 / 50:\n",
      "Training...\n"
     ]
    },
    {
     "name": "stderr",
     "output_type": "stream",
     "text": [
      "8it [02:19, 17.38s/it]\n"
     ]
    },
    {
     "name": "stdout",
     "output_type": "stream",
     "text": [
      "Evaluating...\n"
     ]
    },
    {
     "name": "stderr",
     "output_type": "stream",
     "text": [
      "2it [00:14,  7.26s/it]\n"
     ]
    },
    {
     "name": "stdout",
     "output_type": "stream",
     "text": [
      "Epoch: 17 | Time: 2m 33s\n",
      "\tTrain Loss: 17.827 | Train Acc: 0.838\n",
      "\tVal Loss: 20.131 | Val Acc: 0.848\n",
      "Epoch 18 / 50:\n",
      "Training...\n"
     ]
    },
    {
     "name": "stderr",
     "output_type": "stream",
     "text": [
      "8it [02:19, 17.43s/it]\n"
     ]
    },
    {
     "name": "stdout",
     "output_type": "stream",
     "text": [
      "Evaluating...\n"
     ]
    },
    {
     "name": "stderr",
     "output_type": "stream",
     "text": [
      "2it [00:14,  7.48s/it]\n"
     ]
    },
    {
     "name": "stdout",
     "output_type": "stream",
     "text": [
      "Epoch: 18 | Time: 2m 34s\n",
      "\tTrain Loss: 17.605 | Train Acc: 0.840\n",
      "\tVal Loss: 19.934 | Val Acc: 0.850\n",
      "Epoch 19 / 50:\n",
      "Training...\n"
     ]
    },
    {
     "name": "stderr",
     "output_type": "stream",
     "text": [
      "8it [02:21, 17.72s/it]\n"
     ]
    },
    {
     "name": "stdout",
     "output_type": "stream",
     "text": [
      "Evaluating...\n"
     ]
    },
    {
     "name": "stderr",
     "output_type": "stream",
     "text": [
      "2it [00:14,  7.37s/it]\n"
     ]
    },
    {
     "name": "stdout",
     "output_type": "stream",
     "text": [
      "Epoch: 19 | Time: 2m 36s\n",
      "\tTrain Loss: 17.408 | Train Acc: 0.841\n",
      "\tVal Loss: 21.090 | Val Acc: 0.847\n",
      "Epoch 20 / 50:\n",
      "Training...\n"
     ]
    },
    {
     "name": "stderr",
     "output_type": "stream",
     "text": [
      "8it [02:16, 17.08s/it]\n"
     ]
    },
    {
     "name": "stdout",
     "output_type": "stream",
     "text": [
      "Evaluating...\n"
     ]
    },
    {
     "name": "stderr",
     "output_type": "stream",
     "text": [
      "2it [00:14,  7.24s/it]\n"
     ]
    },
    {
     "name": "stdout",
     "output_type": "stream",
     "text": [
      "Epoch: 20 | Time: 2m 31s\n",
      "\tTrain Loss: 17.447 | Train Acc: 0.841\n",
      "\tVal Loss: 18.759 | Val Acc: 0.850\n",
      "Epoch 21 / 50:\n",
      "Training...\n"
     ]
    },
    {
     "name": "stderr",
     "output_type": "stream",
     "text": [
      "8it [02:16, 17.01s/it]\n"
     ]
    },
    {
     "name": "stdout",
     "output_type": "stream",
     "text": [
      "Evaluating...\n"
     ]
    },
    {
     "name": "stderr",
     "output_type": "stream",
     "text": [
      "2it [00:14,  7.40s/it]\n"
     ]
    },
    {
     "name": "stdout",
     "output_type": "stream",
     "text": [
      "Epoch: 21 | Time: 2m 30s\n",
      "\tTrain Loss: 17.367 | Train Acc: 0.841\n",
      "\tVal Loss: 21.044 | Val Acc: 0.839\n",
      "Epoch 22 / 50:\n",
      "Training...\n"
     ]
    },
    {
     "name": "stderr",
     "output_type": "stream",
     "text": [
      "8it [02:18, 17.26s/it]\n"
     ]
    },
    {
     "name": "stdout",
     "output_type": "stream",
     "text": [
      "Evaluating...\n"
     ]
    },
    {
     "name": "stderr",
     "output_type": "stream",
     "text": [
      "2it [00:14,  7.38s/it]\n"
     ]
    },
    {
     "name": "stdout",
     "output_type": "stream",
     "text": [
      "Epoch: 22 | Time: 2m 32s\n",
      "\tTrain Loss: 17.185 | Train Acc: 0.842\n",
      "\tVal Loss: 18.255 | Val Acc: 0.852\n",
      "Epoch 23 / 50:\n",
      "Training...\n"
     ]
    },
    {
     "name": "stderr",
     "output_type": "stream",
     "text": [
      "8it [02:18, 17.32s/it]\n"
     ]
    },
    {
     "name": "stdout",
     "output_type": "stream",
     "text": [
      "Evaluating...\n"
     ]
    },
    {
     "name": "stderr",
     "output_type": "stream",
     "text": [
      "2it [00:15,  7.59s/it]\n"
     ]
    },
    {
     "name": "stdout",
     "output_type": "stream",
     "text": [
      "Epoch: 23 | Time: 2m 33s\n",
      "\tTrain Loss: 17.138 | Train Acc: 0.843\n",
      "\tVal Loss: 18.203 | Val Acc: 0.852\n",
      "Epoch 24 / 50:\n",
      "Training...\n"
     ]
    },
    {
     "name": "stderr",
     "output_type": "stream",
     "text": [
      "8it [02:19, 17.39s/it]\n"
     ]
    },
    {
     "name": "stdout",
     "output_type": "stream",
     "text": [
      "Evaluating...\n"
     ]
    },
    {
     "name": "stderr",
     "output_type": "stream",
     "text": [
      "2it [00:15,  7.90s/it]\n"
     ]
    },
    {
     "name": "stdout",
     "output_type": "stream",
     "text": [
      "Epoch: 24 | Time: 2m 34s\n",
      "\tTrain Loss: 16.800 | Train Acc: 0.845\n",
      "\tVal Loss: 18.470 | Val Acc: 0.852\n",
      "Epoch 25 / 50:\n",
      "Training...\n"
     ]
    },
    {
     "name": "stderr",
     "output_type": "stream",
     "text": [
      "8it [02:24, 18.07s/it]\n"
     ]
    },
    {
     "name": "stdout",
     "output_type": "stream",
     "text": [
      "Evaluating...\n"
     ]
    },
    {
     "name": "stderr",
     "output_type": "stream",
     "text": [
      "2it [00:15,  7.99s/it]\n"
     ]
    },
    {
     "name": "stdout",
     "output_type": "stream",
     "text": [
      "Epoch: 25 | Time: 2m 40s\n",
      "\tTrain Loss: 16.731 | Train Acc: 0.845\n",
      "\tVal Loss: 19.088 | Val Acc: 0.854\n",
      "Epoch 26 / 50:\n",
      "Training...\n"
     ]
    },
    {
     "name": "stderr",
     "output_type": "stream",
     "text": [
      "8it [02:24, 18.08s/it]\n"
     ]
    },
    {
     "name": "stdout",
     "output_type": "stream",
     "text": [
      "Evaluating...\n"
     ]
    },
    {
     "name": "stderr",
     "output_type": "stream",
     "text": [
      "2it [00:14,  7.47s/it]\n"
     ]
    },
    {
     "name": "stdout",
     "output_type": "stream",
     "text": [
      "Epoch: 26 | Time: 2m 39s\n",
      "\tTrain Loss: 16.747 | Train Acc: 0.846\n",
      "\tVal Loss: 19.950 | Val Acc: 0.852\n",
      "Epoch 27 / 50:\n",
      "Training...\n"
     ]
    },
    {
     "name": "stderr",
     "output_type": "stream",
     "text": [
      "8it [02:21, 17.66s/it]\n"
     ]
    },
    {
     "name": "stdout",
     "output_type": "stream",
     "text": [
      "Evaluating...\n"
     ]
    },
    {
     "name": "stderr",
     "output_type": "stream",
     "text": [
      "2it [00:14,  7.42s/it]\n"
     ]
    },
    {
     "name": "stdout",
     "output_type": "stream",
     "text": [
      "Epoch: 27 | Time: 2m 36s\n",
      "\tTrain Loss: 16.612 | Train Acc: 0.846\n",
      "\tVal Loss: 18.124 | Val Acc: 0.854\n",
      "Epoch 28 / 50:\n",
      "Training...\n"
     ]
    },
    {
     "name": "stderr",
     "output_type": "stream",
     "text": [
      "8it [02:17, 17.25s/it]\n"
     ]
    },
    {
     "name": "stdout",
     "output_type": "stream",
     "text": [
      "Evaluating...\n"
     ]
    },
    {
     "name": "stderr",
     "output_type": "stream",
     "text": [
      "2it [00:15,  7.70s/it]\n"
     ]
    },
    {
     "name": "stdout",
     "output_type": "stream",
     "text": [
      "Epoch: 28 | Time: 2m 33s\n",
      "\tTrain Loss: 16.400 | Train Acc: 0.847\n",
      "\tVal Loss: 17.696 | Val Acc: 0.854\n",
      "Epoch 29 / 50:\n",
      "Training...\n"
     ]
    },
    {
     "name": "stderr",
     "output_type": "stream",
     "text": [
      "8it [02:19, 17.50s/it]\n"
     ]
    },
    {
     "name": "stdout",
     "output_type": "stream",
     "text": [
      "Evaluating...\n"
     ]
    },
    {
     "name": "stderr",
     "output_type": "stream",
     "text": [
      "2it [00:15,  7.55s/it]\n"
     ]
    },
    {
     "name": "stdout",
     "output_type": "stream",
     "text": [
      "Epoch: 29 | Time: 2m 35s\n",
      "\tTrain Loss: 16.361 | Train Acc: 0.847\n",
      "\tVal Loss: 18.897 | Val Acc: 0.856\n",
      "Epoch 30 / 50:\n",
      "Training...\n"
     ]
    },
    {
     "name": "stderr",
     "output_type": "stream",
     "text": [
      "8it [02:17, 17.18s/it]\n"
     ]
    },
    {
     "name": "stdout",
     "output_type": "stream",
     "text": [
      "Evaluating...\n"
     ]
    },
    {
     "name": "stderr",
     "output_type": "stream",
     "text": [
      "2it [00:14,  7.27s/it]\n"
     ]
    },
    {
     "name": "stdout",
     "output_type": "stream",
     "text": [
      "Epoch: 30 | Time: 2m 32s\n",
      "\tTrain Loss: 16.201 | Train Acc: 0.849\n",
      "\tVal Loss: 19.286 | Val Acc: 0.854\n",
      "Epoch 31 / 50:\n",
      "Training...\n"
     ]
    },
    {
     "name": "stderr",
     "output_type": "stream",
     "text": [
      "8it [02:18, 17.28s/it]\n"
     ]
    },
    {
     "name": "stdout",
     "output_type": "stream",
     "text": [
      "Evaluating...\n"
     ]
    },
    {
     "name": "stderr",
     "output_type": "stream",
     "text": [
      "2it [00:15,  7.51s/it]\n"
     ]
    },
    {
     "name": "stdout",
     "output_type": "stream",
     "text": [
      "Epoch: 31 | Time: 2m 33s\n",
      "\tTrain Loss: 16.249 | Train Acc: 0.849\n",
      "\tVal Loss: 19.675 | Val Acc: 0.855\n",
      "Epoch 32 / 50:\n",
      "Training...\n"
     ]
    },
    {
     "name": "stderr",
     "output_type": "stream",
     "text": [
      "8it [02:14, 16.78s/it]\n"
     ]
    },
    {
     "name": "stdout",
     "output_type": "stream",
     "text": [
      "Evaluating...\n"
     ]
    },
    {
     "name": "stderr",
     "output_type": "stream",
     "text": [
      "2it [00:14,  7.16s/it]\n"
     ]
    },
    {
     "name": "stdout",
     "output_type": "stream",
     "text": [
      "Epoch: 32 | Time: 2m 28s\n",
      "\tTrain Loss: 16.180 | Train Acc: 0.849\n",
      "\tVal Loss: 17.507 | Val Acc: 0.854\n",
      "Epoch 33 / 50:\n",
      "Training...\n"
     ]
    },
    {
     "name": "stderr",
     "output_type": "stream",
     "text": [
      "8it [02:13, 16.69s/it]\n"
     ]
    },
    {
     "name": "stdout",
     "output_type": "stream",
     "text": [
      "Evaluating...\n"
     ]
    },
    {
     "name": "stderr",
     "output_type": "stream",
     "text": [
      "2it [00:14,  7.21s/it]\n"
     ]
    },
    {
     "name": "stdout",
     "output_type": "stream",
     "text": [
      "Epoch: 33 | Time: 2m 27s\n",
      "\tTrain Loss: 16.332 | Train Acc: 0.849\n",
      "\tVal Loss: 17.866 | Val Acc: 0.857\n",
      "Epoch 34 / 50:\n",
      "Training...\n"
     ]
    },
    {
     "name": "stderr",
     "output_type": "stream",
     "text": [
      "8it [02:17, 17.23s/it]\n"
     ]
    },
    {
     "name": "stdout",
     "output_type": "stream",
     "text": [
      "Evaluating...\n"
     ]
    },
    {
     "name": "stderr",
     "output_type": "stream",
     "text": [
      "2it [00:14,  7.22s/it]\n"
     ]
    },
    {
     "name": "stdout",
     "output_type": "stream",
     "text": [
      "Epoch: 34 | Time: 2m 32s\n",
      "\tTrain Loss: 16.261 | Train Acc: 0.850\n",
      "\tVal Loss: 17.513 | Val Acc: 0.858\n",
      "Epoch 35 / 50:\n",
      "Training...\n"
     ]
    },
    {
     "name": "stderr",
     "output_type": "stream",
     "text": [
      "8it [02:15, 16.97s/it]\n"
     ]
    },
    {
     "name": "stdout",
     "output_type": "stream",
     "text": [
      "Evaluating...\n"
     ]
    },
    {
     "name": "stderr",
     "output_type": "stream",
     "text": [
      "2it [00:14,  7.24s/it]\n"
     ]
    },
    {
     "name": "stdout",
     "output_type": "stream",
     "text": [
      "Epoch: 35 | Time: 2m 30s\n",
      "\tTrain Loss: 16.039 | Train Acc: 0.850\n",
      "\tVal Loss: 17.627 | Val Acc: 0.858\n",
      "Epoch 36 / 50:\n",
      "Training...\n"
     ]
    },
    {
     "name": "stderr",
     "output_type": "stream",
     "text": [
      "8it [02:19, 17.38s/it]\n"
     ]
    },
    {
     "name": "stdout",
     "output_type": "stream",
     "text": [
      "Evaluating...\n"
     ]
    },
    {
     "name": "stderr",
     "output_type": "stream",
     "text": [
      "2it [00:15,  7.55s/it]\n"
     ]
    },
    {
     "name": "stdout",
     "output_type": "stream",
     "text": [
      "Epoch: 36 | Time: 2m 34s\n",
      "\tTrain Loss: 16.024 | Train Acc: 0.850\n",
      "\tVal Loss: 16.786 | Val Acc: 0.859\n",
      "Epoch 37 / 50:\n",
      "Training...\n"
     ]
    },
    {
     "name": "stderr",
     "output_type": "stream",
     "text": [
      "8it [02:17, 17.23s/it]\n"
     ]
    },
    {
     "name": "stdout",
     "output_type": "stream",
     "text": [
      "Evaluating...\n"
     ]
    },
    {
     "name": "stderr",
     "output_type": "stream",
     "text": [
      "2it [00:14,  7.33s/it]\n"
     ]
    },
    {
     "name": "stdout",
     "output_type": "stream",
     "text": [
      "Epoch: 37 | Time: 2m 32s\n",
      "\tTrain Loss: 16.018 | Train Acc: 0.850\n",
      "\tVal Loss: 17.364 | Val Acc: 0.859\n",
      "Epoch 38 / 50:\n",
      "Training...\n"
     ]
    },
    {
     "name": "stderr",
     "output_type": "stream",
     "text": [
      "8it [02:21, 17.67s/it]\n"
     ]
    },
    {
     "name": "stdout",
     "output_type": "stream",
     "text": [
      "Evaluating...\n"
     ]
    },
    {
     "name": "stderr",
     "output_type": "stream",
     "text": [
      "2it [00:16,  8.21s/it]\n"
     ]
    },
    {
     "name": "stdout",
     "output_type": "stream",
     "text": [
      "Epoch: 38 | Time: 2m 37s\n",
      "\tTrain Loss: 15.963 | Train Acc: 0.850\n",
      "\tVal Loss: 18.710 | Val Acc: 0.854\n",
      "Epoch 39 / 50:\n",
      "Training...\n"
     ]
    },
    {
     "name": "stderr",
     "output_type": "stream",
     "text": [
      "8it [02:20, 17.55s/it]\n"
     ]
    },
    {
     "name": "stdout",
     "output_type": "stream",
     "text": [
      "Evaluating...\n"
     ]
    },
    {
     "name": "stderr",
     "output_type": "stream",
     "text": [
      "2it [00:15,  7.54s/it]\n"
     ]
    },
    {
     "name": "stdout",
     "output_type": "stream",
     "text": [
      "Epoch: 39 | Time: 2m 35s\n",
      "\tTrain Loss: 16.014 | Train Acc: 0.851\n",
      "\tVal Loss: 17.737 | Val Acc: 0.861\n",
      "Epoch 40 / 50:\n",
      "Training...\n"
     ]
    },
    {
     "name": "stderr",
     "output_type": "stream",
     "text": [
      "8it [02:18, 17.31s/it]\n"
     ]
    },
    {
     "name": "stdout",
     "output_type": "stream",
     "text": [
      "Evaluating...\n"
     ]
    },
    {
     "name": "stderr",
     "output_type": "stream",
     "text": [
      "2it [00:14,  7.20s/it]\n"
     ]
    },
    {
     "name": "stdout",
     "output_type": "stream",
     "text": [
      "Epoch: 40 | Time: 2m 32s\n",
      "\tTrain Loss: 15.735 | Train Acc: 0.852\n",
      "\tVal Loss: 16.637 | Val Acc: 0.859\n",
      "Epoch 41 / 50:\n",
      "Training...\n"
     ]
    },
    {
     "name": "stderr",
     "output_type": "stream",
     "text": [
      "8it [02:17, 17.14s/it]\n"
     ]
    },
    {
     "name": "stdout",
     "output_type": "stream",
     "text": [
      "Evaluating...\n"
     ]
    },
    {
     "name": "stderr",
     "output_type": "stream",
     "text": [
      "2it [00:14,  7.23s/it]\n"
     ]
    },
    {
     "name": "stdout",
     "output_type": "stream",
     "text": [
      "Epoch: 41 | Time: 2m 31s\n",
      "\tTrain Loss: 15.702 | Train Acc: 0.852\n",
      "\tVal Loss: 17.027 | Val Acc: 0.859\n",
      "Epoch 42 / 50:\n",
      "Training...\n"
     ]
    },
    {
     "name": "stderr",
     "output_type": "stream",
     "text": [
      "8it [02:17, 17.23s/it]\n"
     ]
    },
    {
     "name": "stdout",
     "output_type": "stream",
     "text": [
      "Evaluating...\n"
     ]
    },
    {
     "name": "stderr",
     "output_type": "stream",
     "text": [
      "2it [00:14,  7.24s/it]\n"
     ]
    },
    {
     "name": "stdout",
     "output_type": "stream",
     "text": [
      "Epoch: 42 | Time: 2m 32s\n",
      "\tTrain Loss: 15.794 | Train Acc: 0.852\n",
      "\tVal Loss: 16.933 | Val Acc: 0.860\n",
      "Epoch 43 / 50:\n",
      "Training...\n"
     ]
    },
    {
     "name": "stderr",
     "output_type": "stream",
     "text": [
      "8it [02:18, 17.36s/it]\n"
     ]
    },
    {
     "name": "stdout",
     "output_type": "stream",
     "text": [
      "Evaluating...\n"
     ]
    },
    {
     "name": "stderr",
     "output_type": "stream",
     "text": [
      "2it [00:14,  7.50s/it]\n"
     ]
    },
    {
     "name": "stdout",
     "output_type": "stream",
     "text": [
      "Epoch: 43 | Time: 2m 33s\n",
      "\tTrain Loss: 15.829 | Train Acc: 0.852\n",
      "\tVal Loss: 16.732 | Val Acc: 0.859\n",
      "Epoch 44 / 50:\n",
      "Training...\n"
     ]
    },
    {
     "name": "stderr",
     "output_type": "stream",
     "text": [
      "8it [02:17, 17.18s/it]\n"
     ]
    },
    {
     "name": "stdout",
     "output_type": "stream",
     "text": [
      "Evaluating...\n"
     ]
    },
    {
     "name": "stderr",
     "output_type": "stream",
     "text": [
      "2it [00:14,  7.26s/it]\n"
     ]
    },
    {
     "name": "stdout",
     "output_type": "stream",
     "text": [
      "Epoch: 44 | Time: 2m 32s\n",
      "\tTrain Loss: 15.821 | Train Acc: 0.851\n",
      "\tVal Loss: 16.867 | Val Acc: 0.860\n",
      "Epoch 45 / 50:\n",
      "Training...\n"
     ]
    },
    {
     "name": "stderr",
     "output_type": "stream",
     "text": [
      "8it [02:19, 17.43s/it]\n"
     ]
    },
    {
     "name": "stdout",
     "output_type": "stream",
     "text": [
      "Evaluating...\n"
     ]
    },
    {
     "name": "stderr",
     "output_type": "stream",
     "text": [
      "2it [00:14,  7.35s/it]\n"
     ]
    },
    {
     "name": "stdout",
     "output_type": "stream",
     "text": [
      "Epoch: 45 | Time: 2m 34s\n",
      "\tTrain Loss: 15.733 | Train Acc: 0.852\n",
      "\tVal Loss: 16.934 | Val Acc: 0.862\n",
      "Epoch 46 / 50:\n",
      "Training...\n"
     ]
    },
    {
     "name": "stderr",
     "output_type": "stream",
     "text": [
      "8it [02:16, 17.11s/it]\n"
     ]
    },
    {
     "name": "stdout",
     "output_type": "stream",
     "text": [
      "Evaluating...\n"
     ]
    },
    {
     "name": "stderr",
     "output_type": "stream",
     "text": [
      "2it [00:14,  7.19s/it]\n"
     ]
    },
    {
     "name": "stdout",
     "output_type": "stream",
     "text": [
      "Epoch: 46 | Time: 2m 31s\n",
      "\tTrain Loss: 15.331 | Train Acc: 0.854\n",
      "\tVal Loss: 16.897 | Val Acc: 0.864\n",
      "Epoch 47 / 50:\n",
      "Training...\n"
     ]
    },
    {
     "name": "stderr",
     "output_type": "stream",
     "text": [
      "8it [02:20, 17.60s/it]\n"
     ]
    },
    {
     "name": "stdout",
     "output_type": "stream",
     "text": [
      "Evaluating...\n"
     ]
    },
    {
     "name": "stderr",
     "output_type": "stream",
     "text": [
      "2it [00:14,  7.23s/it]\n"
     ]
    },
    {
     "name": "stdout",
     "output_type": "stream",
     "text": [
      "Epoch: 47 | Time: 2m 35s\n",
      "\tTrain Loss: 15.392 | Train Acc: 0.854\n",
      "\tVal Loss: 16.602 | Val Acc: 0.864\n",
      "Epoch 48 / 50:\n",
      "Training...\n"
     ]
    },
    {
     "name": "stderr",
     "output_type": "stream",
     "text": [
      "8it [02:20, 17.58s/it]\n"
     ]
    },
    {
     "name": "stdout",
     "output_type": "stream",
     "text": [
      "Evaluating...\n"
     ]
    },
    {
     "name": "stderr",
     "output_type": "stream",
     "text": [
      "2it [00:15,  7.97s/it]\n"
     ]
    },
    {
     "name": "stdout",
     "output_type": "stream",
     "text": [
      "Epoch: 48 | Time: 2m 36s\n",
      "\tTrain Loss: 15.433 | Train Acc: 0.854\n",
      "\tVal Loss: 16.284 | Val Acc: 0.863\n",
      "Epoch 49 / 50:\n",
      "Training...\n"
     ]
    },
    {
     "name": "stderr",
     "output_type": "stream",
     "text": [
      "8it [02:20, 17.56s/it]\n"
     ]
    },
    {
     "name": "stdout",
     "output_type": "stream",
     "text": [
      "Evaluating...\n"
     ]
    },
    {
     "name": "stderr",
     "output_type": "stream",
     "text": [
      "2it [00:14,  7.43s/it]\n"
     ]
    },
    {
     "name": "stdout",
     "output_type": "stream",
     "text": [
      "Epoch: 49 | Time: 2m 35s\n",
      "\tTrain Loss: 15.774 | Train Acc: 0.853\n",
      "\tVal Loss: 16.355 | Val Acc: 0.862\n",
      "Epoch 50 / 50:\n",
      "Training...\n"
     ]
    },
    {
     "name": "stderr",
     "output_type": "stream",
     "text": [
      "8it [02:17, 17.21s/it]\n"
     ]
    },
    {
     "name": "stdout",
     "output_type": "stream",
     "text": [
      "Evaluating...\n"
     ]
    },
    {
     "name": "stderr",
     "output_type": "stream",
     "text": [
      "2it [00:15,  7.58s/it]"
     ]
    },
    {
     "name": "stdout",
     "output_type": "stream",
     "text": [
      "Epoch: 50 | Time: 2m 32s\n",
      "\tTrain Loss: 15.504 | Train Acc: 0.853\n",
      "\tVal Loss: 16.283 | Val Acc: 0.861\n"
     ]
    },
    {
     "name": "stderr",
     "output_type": "stream",
     "text": [
      "\n"
     ]
    }
   ],
   "source": [
    "import os\n",
    "import json\n",
    "import time\n",
    "import random\n",
    "import numpy as np\n",
    "import pandas as pd\n",
    "import torch\n",
    "from torch import nn, optim\n",
    "import torch.nn.functional as F\n",
    "from torch.utils.data import TensorDataset, DataLoader\n",
    "from sklearn.model_selection import train_test_split\n",
    "import matplotlib.pyplot as plt\n",
    "from util.conf import *\n",
    "from tqdm import tqdm\n",
    "from model import Predictor as Net\n",
    "from scipy.stats import pearsonr\n",
    "\n",
    "def preprocess_data(data, crop_size):\n",
    "    \"\"\"预处理数据，包括随机裁剪和标准化\"\"\"\n",
    "    # 随机裁剪\n",
    "    original_size = data.shape[1]\n",
    "    start_idx = np.random.randint(0, original_size - crop_size + 1)\n",
    "    cropped_data = data[:, start_idx:start_idx + crop_size]\n",
    "    \n",
    "    # 使用StandardScaler进行标准化\n",
    "    # scaler = StandardScaler()\n",
    "    # scaled_data = scaler.fit_transform(cropped_data)\n",
    "    \n",
    "    return cropped_data\n",
    "\n",
    "#定义加载数据集函数\n",
    "def DataLoaderGenerator(directory, input_indices, test_size):\n",
    "    x_data_list = []\n",
    "    y_data_list = []\n",
    "\n",
    "    for filename in os.listdir(directory):\n",
    "        if filename.endswith('.csv'):\n",
    "            file_path = os.path.join(directory, filename)\n",
    "            df = pd.read_csv(file_path)\n",
    "            \n",
    "             # 确保数据行数为64行\n",
    "            if df.shape[0] != 64:\n",
    "                raise ValueError(f\"CSV文件 {filename} 应包含64行数据\")  \n",
    "            \n",
    "            for i in range(10):\n",
    "                df = preprocess_data(df.to_numpy(), 8192)\n",
    "                df = pd.DataFrame(df)\n",
    "            \n",
    "                x_data = df.iloc[input_indices].to_numpy()\n",
    "                y_data = df.drop(index=input_indices).to_numpy()\n",
    "\n",
    "                x_data_list.append(x_data)\n",
    "                y_data_list.append(y_data)\n",
    "            \n",
    "    \n",
    "    # 将列表转换为三维NumPy数组\n",
    "    x_data_array = np.array(x_data_list)\n",
    "    y_data_array = np.array(y_data_list)\n",
    "    \n",
    "    # 三维数据转换为四维数据，用于2D卷积\n",
    "    # x_data_array = np.expand_dims(x_data_array, axis=1)\n",
    "    # y_data_array = np.expand_dims(y_data_array, axis=1)\n",
    "\n",
    "    # 分割数据集为训练集和测试集\n",
    "    x_train, x_test, y_train, y_test = train_test_split(x_data_array, y_data_array, test_size=test_size, random_state=42)\n",
    "    \n",
    "    print(\"-----------------------------------------\")\n",
    "    print(\"训练集(x_train)的大小:\",x_train.shape)\n",
    "    print(\"测试集(x_test)的大小:\",x_test.shape)\n",
    "    print(\"-----------------------------------------\")\n",
    "\n",
    "    # 转换为PyTorch张量\n",
    "    x_train_tensor = torch.tensor(x_train, dtype=torch.float32)\n",
    "    y_train_tensor = torch.tensor(y_train, dtype=torch.float32)\n",
    "    x_test_tensor = torch.tensor(x_test, dtype=torch.float32)\n",
    "    y_test_tensor = torch.tensor(y_test, dtype=torch.float32)\n",
    "\n",
    "    #创建训练集和测试集\n",
    "    train_dataset = TensorDataset(x_train_tensor, y_train_tensor)\n",
    "    test_dataset = TensorDataset(x_test_tensor, y_test_tensor)\n",
    "    \n",
    "    return train_dataset, test_dataset\n",
    "\n",
    "# 训练模型的函数\n",
    "def train_model(model, device, train_loader, criterion, optimizer, clip):\n",
    "    model.train()\n",
    "    epoch_loss = 0.0\n",
    "    epoch_correlation_score = 0.0\n",
    "    train_loss = 0.0\n",
    "    train_correlation_score = 0.0\n",
    "    cnt = 0\n",
    "    for i, batch in tqdm(enumerate(train_loader)):\n",
    "        inputs, labels = batch\n",
    "        inputs, labels = inputs.to(device), labels.to(device)\n",
    "\n",
    "        optimizer.zero_grad()\n",
    "        outputs = model(inputs)\n",
    "        outputs = outputs.cpu()\n",
    "        labels = labels.cpu()\n",
    "\n",
    "        loss = criterion(outputs, labels)\n",
    "        loss.backward()\n",
    "        \n",
    "        #梯度裁剪与爆炸检测\n",
    "        torch.nn.utils.clip_grad_norm_(model.parameters(), clip)\n",
    "        update = True\n",
    "        for pp in model.parameters():\n",
    "            if pp.requires_grad and pp.grad is not None:\n",
    "                if torch.isnan(pp.grad).any():\n",
    "                    update=False\n",
    "                    break\n",
    "        if update:\n",
    "            optimizer.step()\n",
    "        else:\n",
    "            print('Gradient explosion and discard this batch!!!')\n",
    "\n",
    "        y_trues = labels.numpy()\n",
    "        y_preds = outputs.detach().numpy()\n",
    "        correlation_score = correlation(y_trues, y_preds)\n",
    "        \n",
    "        epoch_correlation_score += correlation_score\n",
    "        epoch_loss += loss.item()\n",
    "        cnt = i\n",
    "    train_loss = epoch_loss / (cnt+1)\n",
    "    train_correlation_score = epoch_correlation_score / (cnt+1)\n",
    "    return train_loss, train_correlation_score\n",
    "\n",
    "# 评估模型的函数\n",
    "def evaluate_model(model, device, test_loader, criterion):\n",
    "    model.eval()\n",
    "    epoch_loss = 0.0\n",
    "    epoch_correlation_score = 0.0\n",
    "    test_loss = 0.0\n",
    "    test_correlation_score = 0.0\n",
    "    cnt = 0\n",
    "    with torch.no_grad():\n",
    "        for i, batch in tqdm(enumerate(test_loader)):\n",
    "            inputs, labels = batch\n",
    "            inputs, labels = inputs.to(device), labels.to(device)\n",
    "\n",
    "            outputs = model(inputs)\n",
    "            outputs = outputs.cpu()\n",
    "            labels = labels.cpu()\n",
    "                \n",
    "            loss = criterion(outputs, labels)\n",
    "\n",
    "            y_trues = labels.numpy()\n",
    "            y_preds = outputs.detach().numpy()\n",
    "            correlation_score = correlation(y_trues, y_preds)\n",
    "\n",
    "            epoch_correlation_score += correlation_score\n",
    "            epoch_loss += loss.item()\n",
    "            cnt = i\n",
    "    test_loss = epoch_loss / (cnt+1)\n",
    "    test_correlation_score = epoch_correlation_score / (cnt+1)\n",
    "    return test_loss, test_correlation_score\n",
    "\n",
    "# 参数量统计函数\n",
    "def count_parameters(model):\n",
    "    return sum(p.numel() for p in model.parameters() if p.requires_grad)\n",
    "\n",
    "# 初始化权重函数\n",
    "def initialize_weights(m):\n",
    "    if hasattr(m, 'weight') and m.weight.dim() > 1:\n",
    "        nn.init.kaiming_uniform_(m.weight.data)\n",
    "        \n",
    "# 时间统计函数\n",
    "def epoch_time(start_time, end_time):\n",
    "    elapsed_time = end_time - start_time\n",
    "    elapsed_mins = int(elapsed_time / 60)\n",
    "    elapsed_secs = int(elapsed_time - (elapsed_mins * 60))\n",
    "    return elapsed_mins, elapsed_secs\n",
    "\n",
    "# 计算相关系数函数\n",
    "def correlation(y_trues, y_pred):\n",
    "    all_correlation = []\n",
    "    for i in range(BATCH_SIZE):\n",
    "        for j in range(OUTPUT_CHANNELS):\n",
    "            correlation, _ = pearsonr(y_trues[i,j,:], y_pred[i,j,:])\n",
    "            all_correlation.append(correlation)\n",
    "    return np.mean(all_correlation)\n",
    "\n",
    "# 设置随机种子\n",
    "def setup_seed(seed):\n",
    "    torch.manual_seed(seed)\n",
    "    torch.cuda.manual_seed_all(seed)\n",
    "    np.random.seed(seed)\n",
    "    random.seed(seed)\n",
    "    torch.backends.cudnn.determinsitic=True\n",
    "\n",
    "\n",
    "def run(model, device, train_dataset, test_dataset, total_epoch, best_loss, optimizer, criterion, clip):\n",
    "    losses = {'train':[], 'val':[]}\n",
    "    acces = {'train':[], 'val':[]}\n",
    "    for step in range(total_epoch):\n",
    "        print('Epoch {} / {}:'.format(step + 1, total_epoch))\n",
    "        start_time = time.time()\n",
    "        print('Training...')\n",
    "        train_loader = DataLoader(train_dataset, batch_size=BATCH_SIZE, shuffle=True)\n",
    "        train_loss, train_acc = train_model(model, device, train_loader, criterion, optimizer, clip)\n",
    "        print('Evaluating...')\n",
    "        test_loader = DataLoader(test_dataset, batch_size=BATCH_SIZE, shuffle=True)\n",
    "        val_loss, val_acc = evaluate_model(model, device, test_loader, criterion)\n",
    "        end_time = time.time()\n",
    "\n",
    "        if step > WARMUP:\n",
    "            scheduler.step(val_loss)\n",
    "\n",
    "        losses['train'].append(train_loss)\n",
    "        losses['val'].append(val_loss)\n",
    "        acces['train'].append(train_acc)\n",
    "        acces['val'].append(val_acc)\n",
    "\n",
    "        epoch_mins, epoch_secs = epoch_time(start_time, end_time)\n",
    "\n",
    "        if val_loss < best_loss:\n",
    "            best_loss = val_loss\n",
    "            torch.save(model.state_dict(), './saved/best_model_%s_%s_%d.pt'%(MODEL, DATASET, SEED))\n",
    "        torch.save(model.state_dict(), './saved/latest_model_%s_%s_%d.pt'%(MODEL, DATASET, SEED))\n",
    "        \n",
    "        with open('result/result_%s_%s_%d.json'%(MODEL, DATASET, SEED), 'w') as f:\n",
    "            json.dump({'loss':losses, 'acc':acces}, f)\n",
    "        \n",
    "        print(f'Epoch: {step + 1} | Time: {epoch_mins}m {epoch_secs}s')\n",
    "        print(f'\\tTrain Loss: {train_loss:.3f} | Train Acc: {train_acc:.3f}')\n",
    "        print(f'\\tVal Loss: {val_loss:.3f} | Val Acc: {val_acc:.3f}')\n",
    "\n",
    "\n",
    "if __name__ == '__main__':\n",
    "    setup_seed(SEED)\n",
    "\n",
    "    print('Loading dataset...')\n",
    "    train_dataset, test_dataset= DataLoaderGenerator(DIRECTORY, INPUT_INDICES, TEST_SIZE)\n",
    "    \n",
    "    model = Net(INPUT_CHANNELS, HIDDEN_CHANNELS, OUTPUT_CHANNELS, model = MODEL)\n",
    "    print(f'The model has {count_parameters(model):,} trainable parameters in total')\n",
    "    \n",
    "    model.apply(initialize_weights)\n",
    "    model = model.to(DEVICE)\n",
    "  \n",
    "    optimizer = optim.Adam(model.parameters(), lr=INIT_LR, weight_decay=WEIGHT_DECAY,eps=ADAM_EPS)\n",
    "    scheduler = optim.lr_scheduler.ReduceLROnPlateau(optimizer=optimizer, verbose=True, factor=FACTOR, patience=PATIENCE)\n",
    "    criterion = nn.MSELoss()\n",
    "\n",
    "    run(model=model, device=DEVICE, train_dataset=train_dataset, test_dataset=test_dataset, total_epoch=EPOCH, best_loss=INF, \n",
    "        optimizer=optimizer, criterion=criterion, clip=CLIP)"
   ]
  },
  {
   "cell_type": "code",
   "execution_count": null,
   "metadata": {},
   "outputs": [],
   "source": []
  }
 ],
 "metadata": {
  "kernelspec": {
   "display_name": "Python 3 (ipykernel)",
   "language": "python",
   "name": "python3"
  },
  "language_info": {
   "codemirror_mode": {
    "name": "ipython",
    "version": 3
   },
   "file_extension": ".py",
   "mimetype": "text/x-python",
   "name": "python",
   "nbconvert_exporter": "python",
   "pygments_lexer": "ipython3",
   "version": "3.10.13"
  }
 },
 "nbformat": 4,
 "nbformat_minor": 4
}
